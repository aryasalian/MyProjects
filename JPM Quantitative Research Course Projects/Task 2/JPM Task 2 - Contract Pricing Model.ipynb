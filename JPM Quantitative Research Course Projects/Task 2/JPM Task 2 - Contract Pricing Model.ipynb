{
 "cells": [
  {
   "cell_type": "code",
   "execution_count": 2,
   "metadata": {},
   "outputs": [
    {
     "name": "stderr",
     "output_type": "stream",
     "text": [
      "/Users/aryasalian/MyProjects-github/JPM Quantitative Research Course Projects/Task 2/JPM_Task_1_Solution.py:5: UserWarning: Could not infer format, so each element will be parsed individually, falling back to `dateutil`. To ensure parsing is consistent and as-expected, please specify a format.\n",
      "  data = pd.read_csv('/Users/aryasalian/JPM Quant Course/Task 2/Nat_Gas OG copy.csv', names = ['Dates','Prices'], header = 0, parse_dates=['Dates'], index_col= 'Dates')\n"
     ]
    },
    {
     "data": {
      "text/plain": [
       "860000.3843742907"
      ]
     },
     "execution_count": 2,
     "metadata": {},
     "output_type": "execute_result"
    }
   ],
   "source": [
    "from JPM_Task_1_Solution import Task_1_Solution\n",
    "import pandas as pd\n",
    "from datetime import datetime\n",
    "from typing import List\n",
    "\n",
    "\n",
    "def Task_2_Solution(set_quantity: float, injection_dates: List[datetime], withdrawal_dates: List[datetime], inj_with_rate: float, max_storage: float, storage_rate: float) -> float:\n",
    "    \"\"\"\n",
    "    Solution to TASK 2 of the JPM Quantitative Research Course.\n",
    "\n",
    "    Args:\n",
    "        set_quantity: The quantity(in millions of MMBtu) of natural gas injected/withdrawn in every transaction\n",
    "        injection_dates: A list of datetime objects corresponding to dates when the gas is injected\n",
    "        withdrawal_dates: A list of datetime objects corresponding to dates when the gas is withdrawn\n",
    "        inj_with_rate: The rate of injecting/withdrawing natural gas per million MMBtu\n",
    "        max_storage: The maximum volume(in millions of MMBtu) of gas that can be stored\n",
    "        storage_rate: The rate of storing natural gas per month\n",
    "\n",
    "    Returns:\n",
    "        The pricing/valuation of the contract(in dollars)\n",
    "\n",
    "    \"\"\"\n",
    "\n",
    "    buy_prices = pd.Series((Task_1_Solution(date) for date in injection_dates), index=injection_dates).sort_index()\n",
    "    sell_prices = pd.Series((Task_1_Solution(date) for date in withdrawal_dates), index=withdrawal_dates).sort_index()\n",
    "    revenue = sum(sell_prices * set_quantity * 1000000)\n",
    "    op_expense = sum(buy_prices * set_quantity * 1000000)\n",
    "    \n",
    "    current_capacity = 0.0\n",
    "    storage_cost = 0.0\n",
    "    all_orders_placed = pd.concat([buy_prices,sell_prices]).sort_index()\n",
    "    prev_year = all_orders_placed.index[0].year\n",
    "    prev_month = all_orders_placed.index[0].month\n",
    "\n",
    "    for order_date in all_orders_placed.index:\n",
    "        if current_capacity > 0:\n",
    "            storage_cost = storage_cost + storage_rate * ((order_date.year * 12 + order_date.month) - (prev_year * 12 + prev_month))\n",
    "        \n",
    "        if order_date in injection_dates:\n",
    "            current_capacity = current_capacity + set_quantity\n",
    "            injection_dates.remove(order_date)\n",
    "        else:\n",
    "            current_capacity = current_capacity - set_quantity\n",
    "            withdrawal_dates.remove(order_date)\n",
    "\n",
    "        if current_capacity < 0:\n",
    "            raise ValueError(\"Cannot withdraw gas when there is no gas injected in storage!\")\n",
    "\n",
    "        if current_capacity > max_storage:\n",
    "            raise ValueError(\"Current capacity exceeds maximum storage!\")\n",
    "        \n",
    "        prev_month = order_date.month\n",
    "        prev_year = order_date.year\n",
    "        \n",
    "    valuation = revenue - op_expense - storage_cost - (all_orders_placed.size * set_quantity * inj_with_rate)\n",
    "    return valuation\n",
    "        \n",
    "\n",
    "Task_2_Solution(1.0, [datetime(2020,11,23),datetime(2020,12,23)], [datetime(2021,4,28),datetime(2021,3,28)], 10000.0, 5.0, 100000.0)"
   ]
  }
 ],
 "metadata": {
  "kernelspec": {
   "display_name": "Python 3",
   "language": "python",
   "name": "python3"
  },
  "language_info": {
   "codemirror_mode": {
    "name": "ipython",
    "version": 3
   },
   "file_extension": ".py",
   "mimetype": "text/x-python",
   "name": "python",
   "nbconvert_exporter": "python",
   "pygments_lexer": "ipython3",
   "version": "3.9.6"
  }
 },
 "nbformat": 4,
 "nbformat_minor": 2
}
